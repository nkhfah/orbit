{
  "cells": [
    {
      "cell_type": "markdown",
      "metadata": {
        "id": "H0hjRdIPLXLD"
      },
      "source": [
        "# Struktur Kode Program Python\n",
        "Python termasuk bahasa pemrograman yang sangat minimalis. Kita tidak butuh membuat struktur program apapun. Ini sering dijadikan “meme” di internet untuk menunjukkan betapa mudahnya membuat kode program dalam bahasa Python."
      ]
    },
    {
      "cell_type": "code",
      "source": [
        "print(\"Hello World\")"
      ],
      "metadata": {
        "id": "OiQHY2kdFQYa",
        "outputId": "1121d0f0-24ac-424e-ba2e-6bd564165c41",
        "colab": {
          "base_uri": "https://localhost:8080/"
        }
      },
      "execution_count": null,
      "outputs": [
        {
          "output_type": "stream",
          "name": "stdout",
          "text": [
            "Hello World\n"
          ]
        }
      ]
    },
    {
      "cell_type": "code",
      "source": [
        "from google.colab import drive\n",
        "drive.mount('/content/drive')"
      ],
      "metadata": {
        "id": "h2b7YZ1iPhRI",
        "outputId": "0d79da69-e006-4cc7-ed02-f4ee5ac9b2b3",
        "colab": {
          "base_uri": "https://localhost:8080/",
          "height": 328
        }
      },
      "execution_count": null,
      "outputs": [
        {
          "output_type": "error",
          "ename": "MessageError",
          "evalue": "ignored",
          "traceback": [
            "\u001b[0;31m---------------------------------------------------------------------------\u001b[0m",
            "\u001b[0;31mMessageError\u001b[0m                              Traceback (most recent call last)",
            "\u001b[0;32m<ipython-input-2-d5df0069828e>\u001b[0m in \u001b[0;36m<module>\u001b[0;34m()\u001b[0m\n\u001b[1;32m      1\u001b[0m \u001b[0;32mfrom\u001b[0m \u001b[0mgoogle\u001b[0m\u001b[0;34m.\u001b[0m\u001b[0mcolab\u001b[0m \u001b[0;32mimport\u001b[0m \u001b[0mdrive\u001b[0m\u001b[0;34m\u001b[0m\u001b[0;34m\u001b[0m\u001b[0m\n\u001b[0;32m----> 2\u001b[0;31m \u001b[0mdrive\u001b[0m\u001b[0;34m.\u001b[0m\u001b[0mmount\u001b[0m\u001b[0;34m(\u001b[0m\u001b[0;34m'/content/drive'\u001b[0m\u001b[0;34m)\u001b[0m\u001b[0;34m\u001b[0m\u001b[0;34m\u001b[0m\u001b[0m\n\u001b[0m",
            "\u001b[0;32m/usr/local/lib/python3.7/dist-packages/google/colab/drive.py\u001b[0m in \u001b[0;36mmount\u001b[0;34m(mountpoint, force_remount, timeout_ms, use_metadata_server)\u001b[0m\n\u001b[1;32m    113\u001b[0m       \u001b[0mforce_remount\u001b[0m\u001b[0;34m=\u001b[0m\u001b[0mforce_remount\u001b[0m\u001b[0;34m,\u001b[0m\u001b[0;34m\u001b[0m\u001b[0;34m\u001b[0m\u001b[0m\n\u001b[1;32m    114\u001b[0m       \u001b[0mtimeout_ms\u001b[0m\u001b[0;34m=\u001b[0m\u001b[0mtimeout_ms\u001b[0m\u001b[0;34m,\u001b[0m\u001b[0;34m\u001b[0m\u001b[0;34m\u001b[0m\u001b[0m\n\u001b[0;32m--> 115\u001b[0;31m       ephemeral=True)\n\u001b[0m\u001b[1;32m    116\u001b[0m \u001b[0;34m\u001b[0m\u001b[0m\n\u001b[1;32m    117\u001b[0m \u001b[0;34m\u001b[0m\u001b[0m\n",
            "\u001b[0;32m/usr/local/lib/python3.7/dist-packages/google/colab/drive.py\u001b[0m in \u001b[0;36m_mount\u001b[0;34m(mountpoint, force_remount, timeout_ms, use_metadata_server, ephemeral)\u001b[0m\n\u001b[1;32m    133\u001b[0m   \u001b[0;32mif\u001b[0m \u001b[0mephemeral\u001b[0m\u001b[0;34m:\u001b[0m\u001b[0;34m\u001b[0m\u001b[0;34m\u001b[0m\u001b[0m\n\u001b[1;32m    134\u001b[0m     _message.blocking_request(\n\u001b[0;32m--> 135\u001b[0;31m         'request_auth', request={'authType': 'dfs_ephemeral'}, timeout_sec=None)\n\u001b[0m\u001b[1;32m    136\u001b[0m \u001b[0;34m\u001b[0m\u001b[0m\n\u001b[1;32m    137\u001b[0m   \u001b[0mmountpoint\u001b[0m \u001b[0;34m=\u001b[0m \u001b[0m_os\u001b[0m\u001b[0;34m.\u001b[0m\u001b[0mpath\u001b[0m\u001b[0;34m.\u001b[0m\u001b[0mexpanduser\u001b[0m\u001b[0;34m(\u001b[0m\u001b[0mmountpoint\u001b[0m\u001b[0;34m)\u001b[0m\u001b[0;34m\u001b[0m\u001b[0;34m\u001b[0m\u001b[0m\n",
            "\u001b[0;32m/usr/local/lib/python3.7/dist-packages/google/colab/_message.py\u001b[0m in \u001b[0;36mblocking_request\u001b[0;34m(request_type, request, timeout_sec, parent)\u001b[0m\n\u001b[1;32m    173\u001b[0m   request_id = send_request(\n\u001b[1;32m    174\u001b[0m       request_type, request, parent=parent, expect_reply=True)\n\u001b[0;32m--> 175\u001b[0;31m   \u001b[0;32mreturn\u001b[0m \u001b[0mread_reply_from_input\u001b[0m\u001b[0;34m(\u001b[0m\u001b[0mrequest_id\u001b[0m\u001b[0;34m,\u001b[0m \u001b[0mtimeout_sec\u001b[0m\u001b[0;34m)\u001b[0m\u001b[0;34m\u001b[0m\u001b[0;34m\u001b[0m\u001b[0m\n\u001b[0m",
            "\u001b[0;32m/usr/local/lib/python3.7/dist-packages/google/colab/_message.py\u001b[0m in \u001b[0;36mread_reply_from_input\u001b[0;34m(message_id, timeout_sec)\u001b[0m\n\u001b[1;32m    104\u001b[0m         reply.get('colab_msg_id') == message_id):\n\u001b[1;32m    105\u001b[0m       \u001b[0;32mif\u001b[0m \u001b[0;34m'error'\u001b[0m \u001b[0;32min\u001b[0m \u001b[0mreply\u001b[0m\u001b[0;34m:\u001b[0m\u001b[0;34m\u001b[0m\u001b[0;34m\u001b[0m\u001b[0m\n\u001b[0;32m--> 106\u001b[0;31m         \u001b[0;32mraise\u001b[0m \u001b[0mMessageError\u001b[0m\u001b[0;34m(\u001b[0m\u001b[0mreply\u001b[0m\u001b[0;34m[\u001b[0m\u001b[0;34m'error'\u001b[0m\u001b[0;34m]\u001b[0m\u001b[0;34m)\u001b[0m\u001b[0;34m\u001b[0m\u001b[0;34m\u001b[0m\u001b[0m\n\u001b[0m\u001b[1;32m    107\u001b[0m       \u001b[0;32mreturn\u001b[0m \u001b[0mreply\u001b[0m\u001b[0;34m.\u001b[0m\u001b[0mget\u001b[0m\u001b[0;34m(\u001b[0m\u001b[0;34m'data'\u001b[0m\u001b[0;34m,\u001b[0m \u001b[0;32mNone\u001b[0m\u001b[0;34m)\u001b[0m\u001b[0;34m\u001b[0m\u001b[0;34m\u001b[0m\u001b[0m\n\u001b[1;32m    108\u001b[0m \u001b[0;34m\u001b[0m\u001b[0m\n",
            "\u001b[0;31mMessageError\u001b[0m: Error: credential propagation was unsuccessful"
          ]
        }
      ]
    },
    {
      "cell_type": "markdown",
      "metadata": {
        "id": "RnliBDazLXLU"
      },
      "source": [
        "#### Sebagai contoh, berikut kode program dalam bahasa C untuk menampilkan teks “Hello World”:"
      ]
    },
    {
      "cell_type": "raw",
      "metadata": {
        "id": "v9ArL7dkLXLW"
      },
      "source": [
        "#include <stdio.h>\n",
        "int main(void)\n",
        "{\n",
        "  printf(\"Hello World\");\n",
        "  return 0;\n",
        "}"
      ]
    },
    {
      "cell_type": "markdown",
      "metadata": {
        "id": "ke1VvtcYLXLY"
      },
      "source": [
        "#### Berikut kode program dalam bahasa Pascal untuk menampilkan teks “Hello World”:"
      ]
    },
    {
      "cell_type": "markdown",
      "source": [
        ""
      ],
      "metadata": {
        "id": "5j90h4RoLqPn"
      }
    },
    {
      "cell_type": "markdown",
      "source": [
        ""
      ],
      "metadata": {
        "id": "kgc4Q_1XLlTy"
      }
    },
    {
      "cell_type": "markdown",
      "source": [
        ""
      ],
      "metadata": {
        "id": "Wf7ZaRXDLk_M"
      }
    },
    {
      "cell_type": "code",
      "source": [
        ""
      ],
      "metadata": {
        "id": "s4xFJazYLkoj"
      },
      "execution_count": null,
      "outputs": []
    },
    {
      "cell_type": "code",
      "source": [
        ""
      ],
      "metadata": {
        "id": "ysBiaAxNLkZc"
      },
      "execution_count": null,
      "outputs": []
    },
    {
      "cell_type": "raw",
      "metadata": {
        "id": "Nh7JifxOLXLZ"
      },
      "source": [
        "program hello_world;\n",
        "begin\n",
        "  writeln('Hello World');\n",
        "  readln;\n",
        "end."
      ]
    },
    {
      "cell_type": "markdown",
      "metadata": {
        "id": "v3hwQVLRLXLa"
      },
      "source": [
        "#### Dan berikut kode program dalam bahasa Python untuk menampilkan teks “Hello World”:"
      ]
    },
    {
      "cell_type": "raw",
      "metadata": {
        "id": "S3sBLFgaLXLc"
      },
      "source": [
        "print(\"Hello World\")"
      ]
    },
    {
      "cell_type": "markdown",
      "metadata": {
        "id": "fMl8HFySLXLe"
      },
      "source": [
        "Yup, hanya satu baris saja. Dan dari kode program ini bisa disimpulkan bahwa print adalah perintah Python untuk menampilkan teks ke layar. Sangat sederhana."
      ]
    },
    {
      "cell_type": "markdown",
      "metadata": {
        "id": "V3qHI2F_LXLf"
      },
      "source": [
        "# Statement Terminator\n",
        "Selain tidak butuh struktur dasar, bahasa Python juga tidak perlu tanda titik koma ( ; ) di akhir setiap perintah sebagaimana yang sering ditemukan dalam bahasa pemrograman lain.\n",
        "\n",
        "Secara teknis, Python menggunakan karakter new line sebagai pemisah perintah. Karakter newline ini tidak lain adalah penanda pindah baris yang kita buat dengan cara menekan tombol Enter. Berikut contoh kode program Python dengan 4 baris perintah:"
      ]
    },
    {
      "cell_type": "code",
      "execution_count": null,
      "metadata": {
        "id": "sGm04lJ3LXLi",
        "outputId": "584a548e-0c2b-4b42-96cf-de67e54c1562"
      },
      "outputs": [
        {
          "name": "stdout",
          "output_type": "stream",
          "text": [
            "Hello World\n",
            "Sedang belajar bahasa Python di Kelas Volkerding\n",
            "Semangat!!\n"
          ]
        }
      ],
      "source": [
        "print(\"Hello World\")\n",
        "web=\"Kelas Volkerding\"\n",
        "print(\"Sedang belajar bahasa Python di \"+web)\n",
        "print(\"Semangat!!\")"
      ]
    },
    {
      "cell_type": "markdown",
      "metadata": {
        "id": "kB7DfLieLXLo"
      },
      "source": [
        "------\n",
        "Selama tiap perintah berada dalam baris yang berlainan, itu sudah cukup.\n",
        "\n",
        "Meskipun begitu, Python tidak protes seandainya kita tetap ingin menambah tanda titik dua di akhir setiap perintah:"
      ]
    },
    {
      "cell_type": "code",
      "execution_count": null,
      "metadata": {
        "id": "P1gMt1JjLXLp",
        "outputId": "96b09a3d-8598-4095-a424-bcf0df049744"
      },
      "outputs": [
        {
          "name": "stdout",
          "output_type": "stream",
          "text": [
            "Hello World\n",
            "Sedang belajar bahasa Python di Kelas Volkerding\n",
            "Semangat!!\n"
          ]
        }
      ],
      "source": [
        "print(\"Hello World\");\n",
        "web=\"Kelas Volkerding\";\n",
        "print(\"Sedang belajar bahasa Python di \"+web);\n",
        "print(\"Semangat!!\");"
      ]
    },
    {
      "cell_type": "markdown",
      "metadata": {
        "id": "GeOIHBH8LXLq"
      },
      "source": [
        "-------\n",
        "Tanda titik koma ini menjadi harus ditulis jika kita ingin menulis beberapa perintah dalam 1 baris kode program:"
      ]
    },
    {
      "cell_type": "code",
      "execution_count": null,
      "metadata": {
        "id": "cC9D_Y7cLXLr",
        "outputId": "67f0dc18-e577-4b20-d856-82251a989f0c",
        "colab": {
          "base_uri": "https://localhost:8080/"
        }
      },
      "outputs": [
        {
          "output_type": "stream",
          "name": "stdout",
          "text": [
            "Hello World\n",
            "Sedang belajar bahasa Python di Kelas Volkerding\n",
            "Semangat!!\n",
            "5+5\n"
          ]
        }
      ],
      "source": [
        "print(\"Hello World\"); web=\"Kelas Volkerding\";\n",
        "print(\"Sedang belajar bahasa Python di \"+web); print(\"Semangat!!\"); \n",
        "print('5+5');"
      ]
    },
    {
      "cell_type": "markdown",
      "metadata": {
        "id": "6MNXYK1CLXLt"
      },
      "source": [
        "#### Note :\n",
        "Namun penulisan seperti ini tidak disarankan karena susah bagi kita untuk membacanya. Sebaiknya tempatkan 1 perintah dalam satu baris saja."
      ]
    },
    {
      "cell_type": "markdown",
      "metadata": {
        "id": "SDrqHPBPLXLv"
      },
      "source": [
        "## Perbedaan Huruf Besar / Kecil dalam Bahasa Python\n",
        "Bahasa Python menganut aturan penulisan case sensitif, yang artinya huruf besar dan kecil dianggap berbeda. Perintah print tidak bisa ditulis menjadi Print atau PRINT. Ini berlaku untuk perintah-perintah lain seperti variabel dan keyword.\n",
        "\n",
        "Berikut tampilan pesan error di Python ketika saya menulis perintah Print (dengan awalan huruf “P” besar):\n",
        "\n"
      ]
    },
    {
      "cell_type": "code",
      "execution_count": null,
      "metadata": {
        "id": "vY4OpqwELXLw",
        "outputId": "eea6136f-bada-4951-d437-84f00f8f7bd2",
        "colab": {
          "base_uri": "https://localhost:8080/",
          "height": 165
        }
      },
      "outputs": [
        {
          "output_type": "error",
          "ename": "NameError",
          "evalue": "ignored",
          "traceback": [
            "\u001b[0;31m---------------------------------------------------------------------------\u001b[0m",
            "\u001b[0;31mNameError\u001b[0m                                 Traceback (most recent call last)",
            "\u001b[0;32m<ipython-input-1-75fda9047094>\u001b[0m in \u001b[0;36m<module>\u001b[0;34m()\u001b[0m\n\u001b[0;32m----> 1\u001b[0;31m \u001b[0mPrint\u001b[0m\u001b[0;34m(\u001b[0m\u001b[0;34m\"Kelas Volkerding\"\u001b[0m\u001b[0;34m)\u001b[0m\u001b[0;34m\u001b[0m\u001b[0;34m\u001b[0m\u001b[0m\n\u001b[0m",
            "\u001b[0;31mNameError\u001b[0m: name 'Print' is not defined"
          ]
        }
      ],
      "source": [
        "Print(\"Kelas Volkerding\")"
      ]
    },
    {
      "cell_type": "code",
      "execution_count": null,
      "metadata": {
        "id": "KDeStsgmLXLx",
        "outputId": "4b774f58-3ef8-4a30-88d2-c15f0292d13b"
      },
      "outputs": [
        {
          "ename": "NameError",
          "evalue": "name 'A' is not defined",
          "output_type": "error",
          "traceback": [
            "\u001b[0;31m---------------------------------------------------------------------------\u001b[0m",
            "\u001b[0;31mNameError\u001b[0m                                 Traceback (most recent call last)",
            "\u001b[0;32m<ipython-input-3-b561ab34444e>\u001b[0m in \u001b[0;36m<module>\u001b[0;34m\u001b[0m\n\u001b[1;32m      1\u001b[0m \u001b[0ma\u001b[0m \u001b[0;34m=\u001b[0m \u001b[0;34m\"volkerding\"\u001b[0m\u001b[0;34m\u001b[0m\u001b[0;34m\u001b[0m\u001b[0m\n\u001b[0;32m----> 2\u001b[0;31m \u001b[0mprint\u001b[0m\u001b[0;34m(\u001b[0m\u001b[0mA\u001b[0m\u001b[0;34m)\u001b[0m\u001b[0;34m\u001b[0m\u001b[0;34m\u001b[0m\u001b[0m\n\u001b[0m",
            "\u001b[0;31mNameError\u001b[0m: name 'A' is not defined"
          ]
        }
      ],
      "source": [
        "a = \"volkerding\"\n",
        "print(A)"
      ]
    },
    {
      "cell_type": "code",
      "execution_count": null,
      "metadata": {
        "id": "eUDkvh84LXLz"
      },
      "outputs": [],
      "source": [
        "print(\"Kelas Volkerding\")"
      ]
    },
    {
      "cell_type": "markdown",
      "metadata": {
        "id": "tpRG0VdFLXL1"
      },
      "source": [
        "## Indentations\n",
        "Dalam bahasa Indonesia, indentations bisa di translate sebagai indentasi. Bahasa bebasnya, indentasi adalah menggeser atau “menjorokkan” beberapa baris kode program ke arah dalam.\n",
        "\n",
        "Biasanya indentasi dipakai untuk sekedar memudahkan pembacaan kode program, namun dalam Python, indentasi berfungsi sebagai penanda blok kode program.\n",
        "\n",
        "Perhatikan kode program berikut ini:"
      ]
    },
    {
      "cell_type": "code",
      "execution_count": null,
      "metadata": {
        "id": "jNT1j7c8LXL2",
        "outputId": "db067516-0eb2-415a-a2bb-cffa05c4024e"
      },
      "outputs": [
        {
          "name": "stdout",
          "output_type": "stream",
          "text": [
            "0\n",
            "1\n",
            "2\n",
            "Yay, angka 2\n",
            "3\n",
            "4\n"
          ]
        }
      ],
      "source": [
        "for x in range(0, 5):\n",
        "  print (x)\n",
        "  if (x == 2):\n",
        "    print(\"Yay, angka 2\")"
      ]
    },
    {
      "cell_type": "markdown",
      "metadata": {
        "id": "yy-8JsRbLXL3"
      },
      "source": [
        "#### Note :\n",
        "Maksud dari kode program ini boleh diabaikan terlebih dahulu karena akan kita bahas secara bertahap dalam tutorial-tutorial berikutnya."
      ]
    },
    {
      "cell_type": "markdown",
      "metadata": {
        "id": "RfeVoW3pLXL4"
      },
      "source": [
        "-------\n",
        "Tetapi perhatikan spasi di awal baris mulai dari baris ke 2 sampai ke 4. Inilah yang disebut dengan indentasi. Dalam bahasa pemrograman lain, indentasi ini hanya sebatas “pemanis” untuk mempermudah pembacaan kode program, tanpa tambahan spasi di awal pun kode program tetap berjalan sebagaimana mestinya.\n",
        "\n",
        "Namun dalam bahasa Python, spasi di awal baris memiliki makna untuk membuat blok kode program. Jika indentasi di hapus, kode Python bisa menghasilkan error."
      ]
    },
    {
      "cell_type": "code",
      "execution_count": null,
      "metadata": {
        "id": "hP7bNcPjLXL5",
        "outputId": "a304fb69-db6e-4a11-9ef5-60155360a918"
      },
      "outputs": [
        {
          "ename": "IndentationError",
          "evalue": "expected an indented block (<ipython-input-10-5b47281c3ba5>, line 2)",
          "output_type": "error",
          "traceback": [
            "\u001b[0;36m  File \u001b[0;32m\"<ipython-input-10-5b47281c3ba5>\"\u001b[0;36m, line \u001b[0;32m2\u001b[0m\n\u001b[0;31m    print (x)\u001b[0m\n\u001b[0m    ^\u001b[0m\n\u001b[0;31mIndentationError\u001b[0m\u001b[0;31m:\u001b[0m expected an indented block\n"
          ]
        }
      ],
      "source": [
        "for x in range(0, 5):\n",
        "    print (x)\n",
        "    if (x == 2):\n",
        "    print(\"Yay, angka 2\")"
      ]
    },
    {
      "cell_type": "markdown",
      "metadata": {
        "id": "ZB7uf9FBLXL7"
      },
      "source": [
        "### Kode diatas menghasilkan error karena saya menghapus spasi di awal baris kedua.\n",
        "\n",
        "Lebih jauh tentang indentasi dan blok kode program akan kita bahas pada saat masuk ke kondisi if dan perulangan. Untuk saat ini yang perlu dipahami adalah, spasi di awal kode program sangat penting di dalam Python."
      ]
    },
    {
      "cell_type": "markdown",
      "metadata": {
        "id": "YvPOD709LXL8"
      },
      "source": [
        "# Materi Tambahan\n",
        "Tentang memanfaatkan IFrame, IFrame adalah sebuah fungsi yang digunakan untuk menampilkan dokument HTLM/ sebuah jalaman Web, disini ada dua cara, berikut adalah codingannya :"
      ]
    },
    {
      "cell_type": "code",
      "execution_count": null,
      "metadata": {
        "id": "z_SuaXw1LXL8",
        "outputId": "af82e884-3ae1-4902-831b-baa30cc7e267"
      },
      "outputs": [
        {
          "data": {
            "text/html": [
              "\n",
              "        <iframe\n",
              "            width=\"800\"\n",
              "            height=\"600\"\n",
              "            src=\"http://orbitfutureacademy.id\"\n",
              "            frameborder=\"0\"\n",
              "            allowfullscreen\n",
              "        ></iframe>\n",
              "        "
            ],
            "text/plain": [
              "<IPython.lib.display.IFrame at 0x10db21a60>"
            ]
          },
          "execution_count": 11,
          "metadata": {},
          "output_type": "execute_result"
        }
      ],
      "source": [
        "from IPython.display import IFrame\n",
        "url = 'http://orbitfutureacademy.id'\n",
        "IFrame(url, width=800, height=600)"
      ]
    },
    {
      "cell_type": "code",
      "execution_count": null,
      "metadata": {
        "id": "UubZoyTMLXL-",
        "outputId": "debc899b-8b66-4360-8427-d15489e5ef92",
        "colab": {
          "base_uri": "https://localhost:8080/",
          "height": 625
        }
      },
      "outputs": [
        {
          "output_type": "execute_result",
          "data": {
            "text/html": [
              "<iframe src=http://orbitfutureacademy.id width=800 height=600></iframe>"
            ],
            "text/plain": [
              "<IPython.core.display.HTML object>"
            ]
          },
          "metadata": {},
          "execution_count": 2
        }
      ],
      "source": [
        "from IPython.display import HTML\n",
        "HTML('<iframe src=http://orbitfutureacademy.id width=800 height=600></iframe>')"
      ]
    }
  ],
  "metadata": {
    "kernelspec": {
      "display_name": "Python 3",
      "language": "python",
      "name": "python3"
    },
    "language_info": {
      "codemirror_mode": {
        "name": "ipython",
        "version": 3
      },
      "file_extension": ".py",
      "mimetype": "text/x-python",
      "name": "python",
      "nbconvert_exporter": "python",
      "pygments_lexer": "ipython3",
      "version": "3.8.5"
    },
    "colab": {
      "name": "0. Aturan Dasar Penulisan Kode Program Python.ipynb",
      "provenance": []
    }
  },
  "nbformat": 4,
  "nbformat_minor": 0
}