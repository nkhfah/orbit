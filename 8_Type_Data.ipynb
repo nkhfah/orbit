{
  "cells": [
    {
      "cell_type": "markdown",
      "metadata": {
        "id": "J_Au1AUeD0lS"
      },
      "source": [
        "# Tipe Data\n",
        "Data bisa disebut sebagai inti dari setiap program. Program itu sendiri tidak lain memproses data input untuk menghasilkan data output. Dan untuk bisa memproses itu semua, bahasa pemrograman butuh tipe data.\n",
        "\n",
        "Mengutip dari wikipedia (Data type):\n",
        "\n",
        "“A data type or simply type is a classification of data which tells the compiler or interpreter how the programmer intends to use the data”.\n",
        "\n",
        "Terjemahannya:\n",
        "\n",
        "“Tipe data atau kadang disingkat dengan ‘tipe’ saja adalah sebuah pengelompokan data untuk memberitahu compiler atau interpreter bagaimana programmer ingin mengolah data tersebut”\n",
        "\n",
        "#### Secara sederhana, tipe data adalah cara kita memberitahu komputer untuk mengelompokkan data berdasarkan apa yang dipahami oleh komputer."
      ]
    },
    {
      "cell_type": "markdown",
      "metadata": {
        "id": "1JKSbXOvD0ll"
      },
      "source": [
        "Sebagai contoh, misalkan saya memiliki data berupa angka. Agar bisa dipahami oleh interpreter bahasa Python, data ini disimpan ke dalam variabel. Nantinya variabel ini akan diproses sesuai dengan tipe data angka, misalnya bisa ditambah, dikurangi, dibagi, dst. Jika ternyata variabel tersebut berisi teks (string), maka operasi penambahan tidak bisa dilakukan. Setiap jenis tipe data akan memiliki sifat dan fitur masing-masing."
      ]
    },
    {
      "cell_type": "markdown",
      "metadata": {
        "id": "Rq06_ouDD0lp"
      },
      "source": [
        "Jenis-jenis Tipe Data dalam Bahasa Python\n",
        "Dalam bahasa pemrograman Python, terdapat 9 tipe data dasar:\n",
        "\n",
        "1. String\n",
        "2. Integer\n",
        "3. Float\n",
        "4. Complex Number\n",
        "5. Boolean\n",
        "6. List\n",
        "7. Tuple\n",
        "8. Set\n",
        "9. Dictionary"
      ]
    },
    {
      "cell_type": "markdown",
      "metadata": {
        "id": "2eJUyZuhD0lr"
      },
      "source": [
        "# 1. Tipe data: kumpulan karakter (string)\n",
        "\n",
        "Tipe data string adalah tipe data untuk menampung data teks, seperti “Adisyahadi”, “Indonesia”, atau “Saya sedang belajar bahasa Python”.\n",
        "\n",
        "Bahasa Python tidak membatasi jumlah karakter yang ada di dalam string, tapi lebih ke batasan maksimum memory. Jika kita menggunakan interpreter Python 32-bit maksimum karakter adalah sekitar 2 atau 3 milyar karakter (2 – 3GB). Jika menggunakan interpreter Python 64-bit, maka maksimum jumlah karakter menjadi sekitar 63 milyar (63GB). Batasan ini sudah lebih dari cukup."
      ]
    },
    {
      "cell_type": "markdown",
      "metadata": {
        "id": "YTz_7ZhID0lu"
      },
      "source": [
        "# Cara Pembuatan Tipe Data String Python\n",
        "Di dalam bahasa Python, terdapat 3 cara untuk membuat tipe data string:\n",
        "\n",
        "* Menggunakan tanda kutip satu ( ‘ )\n",
        "* Menggunakan tanda kutip dua ( ” )\n",
        "* Menggunakan tanda kutip satu atau dua sebanyak 3 kali ( ‘ ‘ ‘ ) atau (” ” “)\n",
        "#### Note : Cara pertama dan kedua tidak ada perbedaan mendasar dan kita bisa memilih ingin menggunakan yang mana saja."
      ]
    },
    {
      "cell_type": "code",
      "execution_count": null,
      "metadata": {
        "id": "UouoYYzcD0lw",
        "outputId": "4ae11ddf-5765-4bfa-fddc-dc7facd36428"
      },
      "outputs": [
        {
          "name": "stdout",
          "output_type": "stream",
          "text": [
            "Adisyahadi\n",
            "Adisyahadi\n"
          ]
        }
      ],
      "source": [
        "a = \"Adisyahadi\"\n",
        "print(a)\n",
        "b = 'Adisyahadi'\n",
        "print(b)"
      ]
    },
    {
      "cell_type": "markdown",
      "metadata": {
        "id": "q5hN_kx7D0l2"
      },
      "source": [
        "Untuk menulis karakter khusus seperti tab atau pindah baris, bisa menggunakan escape character, yakni karakter backslash ( \\ ) dan diikuti dengan satu karakter khusus. Sebagai contoh, untuk menulis karakter ‘tab’ bisa dipakai \\t, dan untuk membuat karakter new line (pindah baris) bisa menggunakan tanda \\n:"
      ]
    },
    {
      "cell_type": "code",
      "execution_count": null,
      "metadata": {
        "id": "wzDxQCgoD0l9",
        "outputId": "a25620aa-beab-42a9-dd3a-b4164dbbf8e7"
      },
      "outputs": [
        {
          "name": "stdout",
          "output_type": "stream",
          "text": [
            "Teks ini akan dipecah\n",
            "ke dalam 2 baris\n",
            "Teks ini\n",
            "akan dipecah\tke dalam 3 baris\n"
          ]
        }
      ],
      "source": [
        "volk = \"Teks ini akan dipecah\\nke dalam 2 baris\"\n",
        "print(volk)\n",
        "volk = 'Teks ini\\nakan dipecah\\tke dalam 3 baris'\n",
        "print(volk)"
      ]
    },
    {
      "cell_type": "code",
      "execution_count": null,
      "metadata": {
        "id": "sfmpdQtPD0mB",
        "outputId": "c5260ac2-d7c9-48cb-9583-7d24d29cb51f"
      },
      "outputs": [
        {
          "name": "stdout",
          "output_type": "stream",
          "text": [
            "data :  ucup\n",
            "bertipe :  <class 'str'>\n"
          ]
        }
      ],
      "source": [
        "data_string = \"ucup\"\n",
        "print(\"data : \", data_string)\n",
        "print(\"bertipe : \", type(data_string))"
      ]
    },
    {
      "cell_type": "markdown",
      "metadata": {
        "id": "0LPgDEVlD0mD"
      },
      "source": [
        "Cara pembuatan string menggunakan 3 kali tanda kutip dipakai untuk membuat multiline string, dimana teks yang diinput bisa tersambung ke beberapa baris"
      ]
    },
    {
      "cell_type": "code",
      "execution_count": null,
      "metadata": {
        "id": "jPi4JWLuD0mF",
        "outputId": "bb7cfca5-305a-40a6-a464-faded2e72217"
      },
      "outputs": [
        {
          "name": "stdout",
          "output_type": "stream",
          "text": [
            "Teks ini\n",
            "akan dipecah\n",
            "ke dalam 3 baris\n",
            "kasaffjkajfkja\n",
            "kjjjfasfksajfaskjkj\n",
            "hhhhhhhhh\n"
          ]
        }
      ],
      "source": [
        "volk = '''Teks ini\n",
        "akan dipecah\n",
        "ke dalam 3 baris\n",
        "kasaffjkajfkja\n",
        "kjjjfasfksajfaskjkj\n",
        "hhhhhhhhh'''\n",
        "print(volk)"
      ]
    },
    {
      "cell_type": "markdown",
      "metadata": {
        "id": "AJO7beh0D0mG"
      },
      "source": [
        "# Operasi Penyambungan String (string concatenation)\n",
        "Salah satu operasi yang sering dipakai ke dalam tipe data string adalah proses penyambungan (string concatenation). Di dalam bahasa Python, operasi ini menggunakan karakter tambah ( + ). Berikut contohnya:"
      ]
    },
    {
      "cell_type": "code",
      "execution_count": null,
      "metadata": {
        "id": "MJOiNLk5D0mJ",
        "outputId": "6f5bacf5-0e08-4c31-8899-2012277995b6"
      },
      "outputs": [
        {
          "name": "stdout",
          "output_type": "stream",
          "text": [
            "2Bahasa Pemrograman Python di kelas volkerding\n"
          ]
        }
      ],
      "source": [
        "a = '2'\n",
        "b = \"Bahasa Pemrograman Python \"\n",
        "c = \"di kelas volkerding\"\n",
        "hasil = a + b + c\n",
        "print(hasil)"
      ]
    },
    {
      "cell_type": "markdown",
      "metadata": {
        "id": "tgprW0xfD0mK"
      },
      "source": [
        "------------------------\n",
        "# 2. Tipe data number\n",
        "Dalam bahasa Python, tipe data number terdiri dari 3 jenis:\n",
        "\n",
        "1. Integer (int): Tipe data bilangan bulat, seperti 1, 300, 59000000\n",
        "2. Float: Tipe data bilangan desimal / pecahan, seperti 0.43, 0.0002, 999.99\n",
        "3. Complex Number: Tipe data bilangan kompleks atau bilangan imajiner, seperti 5j, 54j, 1j\n",
        "\n",
        "Dari ketiga tipe data ini, tipe data Complex Number adalah tipe data yang cukup unik dan jarang tersedia di bahasa pemrograman lain.\n",
        "\n",
        "Dalam teori matematika, complex number atau bilangan kompleks atau bilangan imajiner adalah sebutan untuk angka yang mengandung nilai akar kuadrat dari -1. Angka akar kuadrat dari -1 ini ditulis dalam Python dengan huruf j. Bilangan 5j sama artinya dengan 5√-1"
      ]
    },
    {
      "cell_type": "markdown",
      "metadata": {
        "id": "Wi_UNC5sD0mM"
      },
      "source": [
        "### Cara Penggunaan Tipe Data Number Python\n",
        "Sama seperti tipe data lain di dalam Python, kita bisa langsung menginput angka-angka ini ke dalam sebuah variabel. Berikut contohnya:"
      ]
    },
    {
      "cell_type": "code",
      "execution_count": null,
      "metadata": {
        "id": "p5fltBwBD0mN",
        "outputId": "3fb1808d-9222-4499-cc4b-0d2bbf142258"
      },
      "outputs": [
        {
          "name": "stdout",
          "output_type": "stream",
          "text": [
            "ini adalah tipe data : <class 'int'> 100\n",
            "ini adalah tipe data : <class 'float'> 30.23\n",
            "ini adalah tipe data : <class 'complex'> 4j\n"
          ]
        }
      ],
      "source": [
        "a = 100\n",
        "b = 30.23\n",
        "c = 4j\n",
        " \n",
        "print(\"ini adalah tipe data :\",type(a), a)\n",
        "print(\"ini adalah tipe data :\",type(b), b)\n",
        "print(\"ini adalah tipe data :\",type(c), c)"
      ]
    },
    {
      "cell_type": "markdown",
      "metadata": {
        "id": "XElkkgfiD0mP"
      },
      "source": [
        "Untuk memeriksa tipe data dari sebuah variabel, terdapat function type() bawaan Python. Berikut contoh penggunaannya:"
      ]
    },
    {
      "cell_type": "code",
      "execution_count": null,
      "metadata": {
        "id": "chqkV4K-D0mP",
        "outputId": "d9fbb6d1-64c5-420c-9444-f496ebc3e0e7"
      },
      "outputs": [
        {
          "name": "stdout",
          "output_type": "stream",
          "text": [
            "<class 'int'>\n",
            "<class 'float'>\n",
            "<class 'complex'>\n"
          ]
        }
      ],
      "source": [
        "a = 100\n",
        "b = 30.23\n",
        "c = 4j\n",
        "  \n",
        "print(type(a))\n",
        "print(type(b))\n",
        "print(type(c))"
      ]
    },
    {
      "cell_type": "markdown",
      "metadata": {
        "id": "82ERne0YD0mR"
      },
      "source": [
        "===============================================================\n",
        "\n",
        "# Tipe data: biner true/false (boolean)\n",
        "\n",
        "Tipe data boolean sebenarnya sangat simple. Tipe data ini hanya bisa diisi dengan salah satu dari 2 nilai: True atau False. Tipe data boolean banyak dipakai untuk percabangan kode program atau untuk memutuskan apa yang mesti dijalankan ketika sebuah kondisi terjadi."
      ]
    },
    {
      "cell_type": "markdown",
      "metadata": {
        "id": "iMmUaR3fD0mS"
      },
      "source": [
        "----------------------------\n",
        "Sebagai contoh, kita bisa membuat kode program untuk menentukan apakah sebuah angka genap atau ganjil berdasarkan input dari pengguna. Untuk keperluan ini kita harus mengecek terlebih dahulu apakah angka tersebut bisa dibagi 2 (untuk angka genap), atau tidak bisa dibagi 2 (untuk angka ganjil). Tipe data boolean bisa dipakai untuk menampung kondisi seperti ini, yakni benar atau salah (True atau False)."
      ]
    },
    {
      "cell_type": "markdown",
      "metadata": {
        "id": "tc7YubpOD0mU"
      },
      "source": [
        "##### Cara Penggunaan Tipe Data Boolean Python\n",
        "Sebagaimana yang sudah dijelaskan sebelumnya, tipe data boolean hanya bisa diisi dengan 2 nilai, yakni salah satu dari True atau False. Berikut contoh penulisannya:"
      ]
    },
    {
      "cell_type": "code",
      "execution_count": null,
      "metadata": {
        "id": "pNav7JTDD0mU",
        "outputId": "97d56171-c958-466a-f5f8-f15ac35fe408"
      },
      "outputs": [
        {
          "name": "stdout",
          "output_type": "stream",
          "text": [
            "True adalah <class 'bool'>\n",
            "False adalah <class 'bool'>\n"
          ]
        }
      ],
      "source": [
        "a = True\n",
        "b = False\n",
        "  \n",
        "print(a,\"adalah\",type(a))\n",
        "print(b,\"adalah\",type(a))"
      ]
    },
    {
      "cell_type": "markdown",
      "metadata": {
        "id": "Y_4G2gqID0mV"
      },
      "source": [
        "Yang juga harus diperhatikan adalah penulisan huruf besar atau kecil. Dalam bahasa Python, penulisannya harus persis seperti itu, jika diinput sebagai true atau TRUE, akan menghasilkan error:"
      ]
    },
    {
      "cell_type": "code",
      "execution_count": null,
      "metadata": {
        "id": "0L4-vFrCD0mX",
        "outputId": "732a95c2-47f4-40f5-9256-77992da9988a"
      },
      "outputs": [
        {
          "name": "stdout",
          "output_type": "stream",
          "text": [
            "data :  False\n",
            "- bertipe :  <class 'bool'>\n"
          ]
        }
      ],
      "source": [
        "data_bool = False\n",
        "print(\"data : \", data_bool)\n",
        "print(\"- bertipe : \", type(data_bool))"
      ]
    },
    {
      "cell_type": "markdown",
      "metadata": {
        "id": "d2S-AsPUD0mY"
      },
      "source": [
        "Selain diinput manual, tipe data boolean lebih sering di dapat sebagai hasil dari operasi perbandingan, seperti apakah suatu angka lebih besar dari angka lainnya, apakah lebih kecil, atau sama dengan. Berikut contoh penggunaan operasi perbandingan ini:\n",
        "\n",
        "<br>\n",
        "\n",
        "Sesuai dengan namanya, operator perbandingan digunakan untuk membandingkan dua nilai. Output operator ini adalah nilai boolean. Berikut ini adalah operator perbandingan:\n",
        "\n",
        "<br>\n",
        "\n",
        "Operator | Deskripsi\n",
        "-|-\n",
        "`<`| Kurang dari\n",
        "`>`| Lebih dari\n",
        "`<=`| Kurang dari sama dengan\n",
        "`>=`| Lebih dari sama dengan\n",
        "`==`| Sama dengan\n",
        "`!=`| Tidak sama dengan\n",
        "\n",
        "<br>"
      ]
    },
    {
      "cell_type": "code",
      "execution_count": null,
      "metadata": {
        "id": "oG6DlV3CD0ma",
        "outputId": "b2bb5559-2a35-4a68-e0ab-bf082090240f"
      },
      "outputs": [
        {
          "name": "stdout",
          "output_type": "stream",
          "text": [
            "False\n",
            "True\n"
          ]
        }
      ],
      "source": [
        "mobil_1 = 10 != 10\n",
        "print(mobil_1)\n",
        "mobil_2 = 12 >= 10\n",
        "print(mobil_2)"
      ]
    },
    {
      "cell_type": "code",
      "execution_count": null,
      "metadata": {
        "id": "o4bs7DOuD0mc"
      },
      "outputs": [],
      "source": [
        ""
      ]
    },
    {
      "cell_type": "markdown",
      "metadata": {
        "id": "k-DEmOrwD0md"
      },
      "source": [
        "### Note :\n",
        "Di baris pertama, saya menyimpan hasil operasi perbandingan 12 < 10 ke dalam variabel foo. Apakah 12 < 10? Salah. Sehingga nilai variabel foo akan berisi boolean False."
      ]
    },
    {
      "cell_type": "markdown",
      "metadata": {
        "id": "g6te_xu1D0me"
      },
      "source": [
        "# Tipe data List\n",
        "Secara sederhana, tipe data List adalah sebuah array, yakni tipe data yang berisi kumpulan tipe data lain. Namun berbeda seperti array dalam bahasa pemrograman lain, List bisa diisi dengan berbagai jenis data, tidak harus tipe data yang sama.\n",
        "\n",
        "Dan sebenarnya tipe data array di Python terdiri dari 4 jenis, yakni List, Tuple, Set dan Dictionary. Ke empat tipe data ini mirip satu sama lain dengan sedikit perbedaan. Kita akan bahas secara rinci dalam tutorial terpisah, yang dimulai dari List terlebih dahulu."
      ]
    },
    {
      "cell_type": "markdown",
      "metadata": {
        "id": "qVD1r-bDD0mf"
      },
      "source": [
        "-----------\n",
        "Cara Pembuatan Tipe Data List Python\n",
        "Untuk membuat tipe data List, gunakan tanda kurung siku, kemudian setiap anggota list dipisah dengan tanda koma. Berikut contohnya:"
      ]
    },
    {
      "cell_type": "code",
      "execution_count": null,
      "metadata": {
        "id": "ElXuNC_ID0mf",
        "outputId": "1e5a13b3-a75a-4a71-8a71-72f319397d8a"
      },
      "outputs": [
        {
          "name": "stdout",
          "output_type": "stream",
          "text": [
            "List_1 ['Belajar', 'Python', 'di', 'Kelas Volkerding'] Type data <class 'list'>\n",
            "List_1 [100, 200, 300, 400] Type data <class 'list'>\n",
            "List_1 ['Python', 200, 6.99, True] Type data <class 'list'>\n"
          ]
        }
      ],
      "source": [
        "list_1 = [\"Belajar\", \"Python\", \"di\", \"Kelas Volkerding\"]\n",
        "list_2 = [100, 200, 300, 400]\n",
        "list_3 = [\"Python\", 200, 6.99, True]\n",
        "  \n",
        "print(\"List_1\",list_1,\"Type data\",type(list_1))\n",
        "print(\"List_1\",list_2,\"Type data\",type(list_2))\n",
        "print(\"List_1\",list_3,\"Type data\",type(list_3))"
      ]
    },
    {
      "cell_type": "markdown",
      "metadata": {
        "id": "QWj1zzs0D0mg"
      },
      "source": [
        "----------\n",
        "### Cara Mengakses Tipe Data List Python\n",
        "Untuk mengakses nilai individu dari tipe data list, gunakan penomoran index. Data pertama bernomor index 0, data kedua bernomor index 1, dst. Nomor index ini ditulis di dalam tanda kurung siku:"
      ]
    },
    {
      "cell_type": "code",
      "execution_count": null,
      "metadata": {
        "id": "rYC12CaHD0mh",
        "outputId": "eeac746e-5f82-4c33-e213-e9159026252e"
      },
      "outputs": [
        {
          "name": "stdout",
          "output_type": "stream",
          "text": [
            "Python\n",
            "200\n",
            "6.99\n",
            "True\n",
            "Kelas Volkerding\n",
            "99j\n"
          ]
        }
      ],
      "source": [
        "Volk = [\"Python\", 200, 6.99, True, 'Kelas Volkerding', 99j]\n",
        "  \n",
        "print(Volk[0])\n",
        "print(Volk[1])\n",
        "print(Volk[2])\n",
        "print(Volk[3])\n",
        "print(Volk[4])\n",
        "print(Volk[5])"
      ]
    },
    {
      "cell_type": "markdown",
      "metadata": {
        "id": "PO0_1yrdD0mj"
      },
      "source": [
        "-------\n",
        "### Cara Mengganti Nilai Tipe Data List Python\n",
        "Nilai yang ada di dalam List bisa diganti atau diupdate. Caranya, isikan data baru ke dalam nomor index seperti contoh berikut:"
      ]
    },
    {
      "cell_type": "code",
      "execution_count": null,
      "metadata": {
        "id": "D0az4Ac3D0mk",
        "outputId": "2b2d165e-b354-43e4-b6b5-96452b50777b"
      },
      "outputs": [
        {
          "name": "stdout",
          "output_type": "stream",
          "text": [
            "['Python', 200, 6.99, True, 'kelas volkerding', 99j]\n",
            "['Belajar', 200, 6.99, False, 'kelas volkerding', 99j]\n"
          ]
        }
      ],
      "source": [
        "volk = [\"Python\", 200, 6.99, True, 'kelas volkerding', 99j]\n",
        "print(volk)\n",
        "  \n",
        "volk[0] = 'Belajar'\n",
        "volk[3] = False\n",
        "print(volk)"
      ]
    },
    {
      "cell_type": "markdown",
      "metadata": {
        "id": "shml8mR6D0ml"
      },
      "source": [
        "------\n",
        "### Menampilkan Sebagian Anggota List\n",
        "Pilihan lain, Python menyediakan cara untuk menampilkan beberapa anggota List sekaligus. Berikut prakteknya:"
      ]
    },
    {
      "cell_type": "code",
      "execution_count": null,
      "metadata": {
        "id": "iJO9GXyvD0mm",
        "outputId": "883504ac-d0cb-45d5-c3f9-d1bb6d0e207e"
      },
      "outputs": [
        {
          "name": "stdout",
          "output_type": "stream",
          "text": [
            "['Warkop DKI Reborn', 'KKN Desa Penari', 'Story of Kale']\n",
            "['Dilan 1991', 'Ada Apa Dengan Cinta 2', 'Warkop DKI Reborn']\n",
            "['KKN Desa Penari', 'Story of Kale', 'Nanti Kita Ceritakan Hari ini', 'Dua Dunia']\n",
            "['Dilan 1991', 'Ada Apa Dengan Cinta 2', 'Warkop DKI Reborn', 'KKN Desa Penari', 'Story of Kale', 'Nanti Kita Ceritakan Hari ini', 'Dua Dunia']\n"
          ]
        }
      ],
      "source": [
        "Film_list = [\"Dilan 1991\",\"Ada Apa Dengan Cinta 2\",\"Warkop DKI Reborn\",\"KKN Desa Penari\",\"Story of Kale\",\"Nanti Kita Ceritakan Hari ini\",\"Dua Dunia\"]\n",
        "print(Film_list[2:5]) #tampilkan isi variabel volk mulai dari index ke 2 hingga index ke 4 (index ke 5 tidak ikut dalam hitungan).\n",
        "print(Film_list[:3]) #tampilkan isi variabel volk mulai dari awal hingga index ke 2 (index ke 3 tidak ikut dalam hitungan).\n",
        "print(Film_list[3:]) #tampilkan isi variabel volk mulai dari index ke 3 hingga terakhir.\n",
        "print(Film_list[:]) #tampilkan semua isi variabel volk"
      ]
    },
    {
      "cell_type": "markdown",
      "metadata": {
        "id": "6NYEFlWKD0mo"
      },
      "source": [
        "===========================================\n",
        "# Tipe Data Tuple Python\n",
        "Tipe data Tuple sangat mirip seperti tipe data List yang sudah kita pelajari sebelumnya, dimana tipe data Tuple juga terdiri dari kumpulan tipe data lain. Bedanya, anggota di dalam tipe data Tuple tidak bisa diubah setelah di deklarasikan. Kita akan bahas perbedaan ini menggunakan contoh kode program."
      ]
    },
    {
      "cell_type": "markdown",
      "metadata": {
        "id": "LyKnVQqSD0mp"
      },
      "source": [
        "### Cara Pembuatan Tipe Data Tuple Python\n",
        "Untuk membuat tipe data Tuple, gunakan tanda kurung biasa, kemudian setiap anggota list dipisah dengan tanda koma. Berikut contohnya:"
      ]
    },
    {
      "cell_type": "code",
      "execution_count": null,
      "metadata": {
        "id": "F6Irr33GD0mr",
        "outputId": "18b320a0-c9c1-4d64-91e9-8a0cc55cf230"
      },
      "outputs": [
        {
          "name": "stdout",
          "output_type": "stream",
          "text": [
            "('Belajar', 'Python', 'di', 'kelas volkerding')\n",
            "(100, 200, 300, 400)\n",
            "('Python', 200, 6.99, True)\n"
          ]
        }
      ],
      "source": [
        "volk = (\"Belajar\", \"Python\", \"di\", \"kelas volkerding\")\n",
        "ker = (100, 200, 300, 400)\n",
        "ding = (\"Python\", 200, 6.99, True)\n",
        "  \n",
        "print(volk)\n",
        "print(ker)\n",
        "print(ding)"
      ]
    },
    {
      "cell_type": "markdown",
      "metadata": {
        "id": "QeWbRzdCD0mw"
      },
      "source": [
        "Nyaris tidak berbeda dengan List. Namun tipe data Tuple dibuat menggunakan tanda kurung bulat, bukan tanda kurung siku sebagaimana List.\n",
        "### Berikut pembuktiannya:"
      ]
    },
    {
      "cell_type": "code",
      "execution_count": null,
      "metadata": {
        "id": "kkcgu4TpD0mz",
        "outputId": "afdec102-3541-4cc3-b01b-a79811f78cfe"
      },
      "outputs": [
        {
          "name": "stdout",
          "output_type": "stream",
          "text": [
            "Type data volk_1 adalah : <class 'list'>\n",
            "Type data volk_2 adalah : <class 'tuple'>\n"
          ]
        }
      ],
      "source": [
        "volk_1 = [\"Belajar\", \"Python\", \"di\", \"kelas volkerding\"]\n",
        "print(\"Type data volk_1 adalah :\",type(volk_1))\n",
        "volk_2 = (\"Belajar\", \"Python\", \"di\", \"kelas volkerding\")\n",
        "print(\"Type data volk_2 adalah :\",type(volk_2))"
      ]
    },
    {
      "cell_type": "markdown",
      "metadata": {
        "id": "8DLt0FvzD0m1"
      },
      "source": [
        "### Cara Mengakses Tipe Data Tuple Python\n",
        "Cara mengakses tipe data Tuple tidak berbeda dengan tipe data List, dimana kita menulis nomor urut index dalam tanda kurung siku:"
      ]
    },
    {
      "cell_type": "code",
      "execution_count": null,
      "metadata": {
        "id": "K5X6exQID0m2",
        "outputId": "7d3c39e8-aae9-4203-aa2d-ce44f4b72caf"
      },
      "outputs": [
        {
          "name": "stdout",
          "output_type": "stream",
          "text": [
            "akses ke_1 Python\n",
            "akses ke_2 200\n",
            "akses ke_3 6.99\n",
            "akses ke_4 (6.99, True, 'colkerding')\n",
            "akses ke_5 ('Python', 200, 6.99)\n",
            "akses ke_6 (True, 'colkerding', 99j)\n",
            "akses ke_7 ('Python', 200, 6.99, True, 'colkerding', 99j)\n"
          ]
        }
      ],
      "source": [
        "volk = (\"Python\", 200, 6.99, True, 'colkerding', 99j)\n",
        "  \n",
        "print('akses ke_1',volk[0])\n",
        "print('akses ke_2',volk[1])\n",
        "print('akses ke_3',volk[2])\n",
        "print('akses ke_4',volk[2:5])\n",
        "print('akses ke_5',volk[:3])\n",
        "print('akses ke_6',volk[3:])\n",
        "print('akses ke_7',volk[:])"
      ]
    },
    {
      "cell_type": "markdown",
      "metadata": {
        "id": "2TxMiZgxD0m3"
      },
      "source": [
        "### Cara Mengganti Nilai Tipe Data Tuple Python\n",
        "Seperti yang dijelaskan sebelumnya, anggota dari tipe data Tuple tidak bisa diubah atau diganti setelah di definisikan. Benarkah demikian? mari kita coba:"
      ]
    },
    {
      "cell_type": "code",
      "execution_count": null,
      "metadata": {
        "id": "wCo_tfIXD0m4",
        "outputId": "0f0c2e4a-bfbe-4635-a565-f1571d5b9276"
      },
      "outputs": [
        {
          "ename": "TypeError",
          "evalue": "'tuple' object does not support item assignment",
          "output_type": "error",
          "traceback": [
            "\u001b[0;31m---------------------------------------------------------------------------\u001b[0m",
            "\u001b[0;31mTypeError\u001b[0m                                 Traceback (most recent call last)",
            "\u001b[0;32m<ipython-input-18-be8b7d5047b0>\u001b[0m in \u001b[0;36m<module>\u001b[0;34m\u001b[0m\n\u001b[1;32m      1\u001b[0m \u001b[0mvolk\u001b[0m \u001b[0;34m=\u001b[0m \u001b[0;34m(\u001b[0m\u001b[0;34m\"Python\"\u001b[0m\u001b[0;34m,\u001b[0m \u001b[0;36m200\u001b[0m\u001b[0;34m,\u001b[0m \u001b[0;36m6.99\u001b[0m\u001b[0;34m,\u001b[0m \u001b[0;32mTrue\u001b[0m\u001b[0;34m,\u001b[0m \u001b[0;34m'volkerding'\u001b[0m\u001b[0;34m,\u001b[0m \u001b[0;36m99j\u001b[0m\u001b[0;34m)\u001b[0m\u001b[0;34m\u001b[0m\u001b[0;34m\u001b[0m\u001b[0m\n\u001b[0;32m----> 2\u001b[0;31m \u001b[0mvolk\u001b[0m\u001b[0;34m[\u001b[0m\u001b[0;36m0\u001b[0m\u001b[0;34m]\u001b[0m \u001b[0;34m=\u001b[0m \u001b[0;34m'Belajar'\u001b[0m\u001b[0;34m\u001b[0m\u001b[0;34m\u001b[0m\u001b[0m\n\u001b[0m\u001b[1;32m      3\u001b[0m \u001b[0mprint\u001b[0m\u001b[0;34m(\u001b[0m\u001b[0mvolk\u001b[0m\u001b[0;34m)\u001b[0m\u001b[0;34m\u001b[0m\u001b[0;34m\u001b[0m\u001b[0m\n",
            "\u001b[0;31mTypeError\u001b[0m: 'tuple' object does not support item assignment"
          ]
        }
      ],
      "source": [
        "volk = (\"Python\", 200, 6.99, True, 'volkerding', 99j)\n",
        "volk[0] = 'Belajar'\n",
        "print(volk)"
      ]
    },
    {
      "cell_type": "markdown",
      "metadata": {
        "id": "7dWFwDPgD0m6"
      },
      "source": [
        "Hasilnya terjadi error dengan pesan: ‘tuple’ object does not support item assignment, yang kurang lebih berarti: “Tuple tidak mendukung penambahan nilai baru“. Inilah pembeda antara tipe data Tuple dengan tipe data List."
      ]
    },
    {
      "cell_type": "markdown",
      "metadata": {
        "id": "1qWWIVqGD0m7"
      },
      "source": [
        "===========================================\n",
        "# Tipe Data Set Python\n",
        "Tipe data Set Python adalah tipe data yang berisi kumpulan tipe data dan dipakai untuk mengolah himpunan (set). Jika dibandingkan dengan tipe data berbentuk array lain di Python, tipe data set berbeda dalam hal index, pengurutan dan keunikan nilai (unique value).\n",
        "\n",
        "Tipe data set tidak memiliki index, sehingga tidak ada mekanisme pengurutan. Maksudnya, ketika kita menginput beberapa nilai ke dalam tipe data set, posisi nilai tersebut bisa berada di mana saja, tidak persis seperti apa yang tertulis. Akibat tidak memiliki index, maka kita tidak bisa menambah nilai baru ke dalam tipe data set dengan cara menulis nomor index (seperti di dalam tipe data list)\n",
        "\n",
        "Ciri khas selanjutnya dari tipe data set adalah tidak bisa menerima nilai ganda, setiap nilai di dalam set harus unik. Jika kita menginput beberapa nilai yang sama, hanya satu yang tersimpan di dalam set."
      ]
    },
    {
      "cell_type": "markdown",
      "metadata": {
        "id": "ZEjyS9p1D0nC"
      },
      "source": [
        "### Cara Pembuatan Tipe Data Set Python\n",
        "Untuk membuat tipe data set, gunakan tanda kurung kurawal, kemudian setiap anggota set dipisah dengan tanda koma. Berikut contohnya:"
      ]
    },
    {
      "cell_type": "code",
      "execution_count": null,
      "metadata": {
        "id": "wxXY00kLD0nF",
        "outputId": "be716446-c954-42f5-c005-2a3d737f46ce"
      },
      "outputs": [
        {
          "name": "stdout",
          "output_type": "stream",
          "text": [
            "{'Python', 'di', 'kelas vokerding', 'Belajar'}\n",
            "{200, 100, 400, 300}\n",
            "{'Python', True, 6.99, 200}\n"
          ]
        }
      ],
      "source": [
        "volk = {\"Belajar\", \"Python\", \"di\", \"kelas vokerding\"}\n",
        "ker = {100, 200, 300, 400}\n",
        "ding = {\"Python\", 200, 6.99, True}\n",
        " \n",
        "print(volk)\n",
        "print(ker)\n",
        "print(ding)"
      ]
    },
    {
      "cell_type": "markdown",
      "metadata": {
        "id": "J_wgiwVgD0nG"
      },
      "source": [
        "Perhatikan urutan data yang tampil, hampir semuanya tidak terurut sesuai penulisan. Ini karena di dalam tipe data set setiap anggota atau element tidak memiliki index sehingga posisinya tidak bisa dipastikan"
      ]
    },
    {
      "cell_type": "code",
      "execution_count": null,
      "metadata": {
        "id": "dwAvqpOYD0nH",
        "outputId": "1bb7acce-7583-4fbd-b83c-9276b426cc67"
      },
      "outputs": [
        {
          "name": "stdout",
          "output_type": "stream",
          "text": [
            "{'Python', 'di', 'kelas vokerding', 'Belajar'}  tipe data : <class 'set'>\n",
            "[100, 200, 300, 400]  tipe data : <class 'list'>\n",
            "('Python', 200, 6.99, True)  tipe data : <class 'tuple'>\n"
          ]
        }
      ],
      "source": [
        "volk = {\"Belajar\", \"Python\", \"di\", \"kelas vokerding\"}\n",
        "ker = [100, 200, 300, 400]\n",
        "ding = (\"Python\", 200, 6.99, True)\n",
        " \n",
        "print(volk,\" tipe data :\",type(volk))\n",
        "print(ker,\" tipe data :\",type(ker))\n",
        "print(ding,\" tipe data :\",type(ding))"
      ]
    },
    {
      "cell_type": "markdown",
      "metadata": {
        "id": "OANToq5TD0nJ"
      },
      "source": [
        "### Sifat Tipe Data Set Python\n",
        "Seperti yang dibahas pada bagian pengertian, sifat dari tipe data set adalah tidak ber-index dan hanya bisa menerima anggota dengan nilai yang berbeda (unique value). Mari lihat dengan contoh kode program:"
      ]
    },
    {
      "cell_type": "code",
      "execution_count": null,
      "metadata": {
        "id": "VJN_6E2sD0nK",
        "outputId": "9aad8e19-9065-4113-9180-587c9337da5c"
      },
      "outputs": [
        {
          "name": "stdout",
          "output_type": "stream",
          "text": [
            "{'Python', 'di', 'Belajar', 'kelas volkerding'}\n",
            "{200, 100, 400, 300}\n"
          ]
        }
      ],
      "source": [
        "volk = {\"Belajar\", \"Python\", \"di\", \"kelas volkerding\", \"di\"}\n",
        "ker = {100, 200, 300, 400, 200, 300}\n",
        " \n",
        "print(volk)\n",
        "print(ker)"
      ]
    },
    {
      "cell_type": "markdown",
      "metadata": {
        "id": "p07KJyzKD0nL"
      },
      "source": [
        "Untuk variabel volk saya menginput string “di” sebanyak 2 kali namun yang masuk hanya 1 buah. Begitu pula untuk variabel ker yang saya input dua kali nilai 200 dan 300 (total 6 element). Namun yang ditampung hanya 4 element saja dimana angka 200 dan 300 muncul hanya 1 kali. Selain itu tidak ada urutan yang pasti dari tipe data set."
      ]
    },
    {
      "cell_type": "markdown",
      "metadata": {
        "id": "6ix9XPOoD0nP"
      },
      "source": [
        "### Bagaimana jika kita tetap mengakses anggota set menggunakan index? "
      ]
    },
    {
      "cell_type": "code",
      "execution_count": null,
      "metadata": {
        "id": "iwAJuFdAD0nR",
        "outputId": "4aacafcd-a7a0-40e1-ac7c-ce60788dc70b"
      },
      "outputs": [
        {
          "ename": "TypeError",
          "evalue": "'set' object is not subscriptable",
          "output_type": "error",
          "traceback": [
            "\u001b[0;31m---------------------------------------------------------------------------\u001b[0m",
            "\u001b[0;31mTypeError\u001b[0m                                 Traceback (most recent call last)",
            "\u001b[0;32m<ipython-input-22-a9c1eff658cc>\u001b[0m in \u001b[0;36m<module>\u001b[0;34m\u001b[0m\n\u001b[1;32m      1\u001b[0m \u001b[0mvolk\u001b[0m \u001b[0;34m=\u001b[0m \u001b[0;34m{\u001b[0m\u001b[0;34m\"Belajar\"\u001b[0m\u001b[0;34m,\u001b[0m \u001b[0;34m\"Python\"\u001b[0m\u001b[0;34m,\u001b[0m \u001b[0;34m\"di\"\u001b[0m\u001b[0;34m,\u001b[0m \u001b[0;34m\"volkerding\"\u001b[0m\u001b[0;34m,\u001b[0m \u001b[0;34m\"di\"\u001b[0m\u001b[0;34m}\u001b[0m\u001b[0;34m\u001b[0m\u001b[0;34m\u001b[0m\u001b[0m\n\u001b[1;32m      2\u001b[0m \u001b[0;34m\u001b[0m\u001b[0m\n\u001b[0;32m----> 3\u001b[0;31m \u001b[0mprint\u001b[0m\u001b[0;34m(\u001b[0m\u001b[0mvolk\u001b[0m\u001b[0;34m[\u001b[0m\u001b[0;36m1\u001b[0m\u001b[0;34m]\u001b[0m\u001b[0;34m)\u001b[0m\u001b[0;34m\u001b[0m\u001b[0;34m\u001b[0m\u001b[0m\n\u001b[0m",
            "\u001b[0;31mTypeError\u001b[0m: 'set' object is not subscriptable"
          ]
        }
      ],
      "source": [
        "volk = {\"Belajar\", \"Python\", \"di\", \"volkerding\", \"di\"}\n",
        " \n",
        "print(volk[1])"
      ]
    },
    {
      "cell_type": "markdown",
      "metadata": {
        "id": "Lsk3R2ZyD0nT"
      },
      "source": [
        "### Yup, terjadi error karena tipe data set memang tidak memiliki index"
      ]
    },
    {
      "cell_type": "markdown",
      "metadata": {
        "id": "6LqUQ4WGD0nV"
      },
      "source": [
        "============================================================\n",
        "# Tipe Data Dictionary Python\n",
        "Tipe data dictionary adalah tipe data array dimana key atau index dari array bisa berbentuk string, tidak hanya number saja. Dalam bahasa pemrograman lain (seperti PHP) dictionary ini dikenal juga dengan sebutan associative array.\n",
        "\n",
        "Berikut format dasar penulisan dictionary dalam bahasa Python:"
      ]
    },
    {
      "cell_type": "raw",
      "metadata": {
        "id": "De1KCE7_D0nW"
      },
      "source": [
        "nama_variabel = { \"key1\": \"value1\", \"key2\": \"value2\", \"key3\": \"value3\" }"
      ]
    },
    {
      "cell_type": "markdown",
      "metadata": {
        "id": "C1jQHWOlD0nX"
      },
      "source": [
        "Tipe data dictionary ini cocok dipakai untuk kelompok data yang kompleks (terdiri dari banyak element)"
      ]
    },
    {
      "cell_type": "markdown",
      "metadata": {
        "id": "yd9Ic8owD0nY"
      },
      "source": [
        "### Cara Pembuatan Tipe Data Dictionary Python\n",
        "Dalam pembuatan dictionary, kita menggunakan tanda kurung kurawal { dan } . Selain itu setiap element merupakan pasangan dari key dan value. Antar satu element dengan element lain dipisah dengan tanda koma seperti contoh berikut:"
      ]
    },
    {
      "cell_type": "code",
      "execution_count": null,
      "metadata": {
        "id": "p_j1X8AKD0nY",
        "outputId": "b4a0d184-0299-4fa4-8c3c-c26a6f724cac"
      },
      "outputs": [
        {
          "name": "stdout",
          "output_type": "stream",
          "text": [
            "{1: 'Belajar', 2: 'Python', 3: 'di kelas volkerding'} Type Data : <class 'dict'>\n",
            "{'mengapa': 'Belajar', 'apa': 'Python', 'dimana': 'di kelas volkerding'} Type Data : <class 'dict'>\n",
            "{1: 'Belajar', 'apa': 'Python', 'dimana': 'di kelas volkerding'} Type Data : <class 'dict'>\n"
          ]
        }
      ],
      "source": [
        "volk = { 1: \"Belajar\", 2: \"Python\", 3: \"di kelas volkerding\" }\n",
        "ker = { \"mengapa\": \"Belajar\", \"apa\": \"Python\", \"dimana\": \"di kelas volkerding\" }\n",
        "ding = { 1: \"Belajar\", \"apa\": \"Python\", \"dimana\": \"di kelas volkerding\" }\n",
        " \n",
        "print(volk,\"Type Data :\",type(volk))\n",
        "print(ker,\"Type Data :\",type(ker))\n",
        "print(ding,\"Type Data :\",type(ding))"
      ]
    },
    {
      "cell_type": "markdown",
      "metadata": {
        "id": "bwyXoVfED0nZ"
      },
      "source": [
        "##### Nilai atau value dari setiap element dictionary bisa terdiri dari berbagai tipe data:"
      ]
    },
    {
      "cell_type": "code",
      "execution_count": null,
      "metadata": {
        "id": "HnWea192D0na",
        "outputId": "4b35f3d0-df50-4541-f191-969270e0c744"
      },
      "outputs": [
        {
          "name": "stdout",
          "output_type": "stream",
          "text": [
            "{1: 'Belajar', 2: ['Pascal', 'C', 'Python'], 'website': 'volkerding', 'menyerah': False, 'target': 2020, 'riwayat_sekolah': {'SD': 'SDN 3 Hijau Daun', 'SMP': 'SMP 7 Hijau Lumut', 'SMA': 'SMA 8 Hijau Rumput'}}\n"
          ]
        }
      ],
      "source": [
        "volk = { 1: \"Belajar\", \n",
        "        2: [\"Pascal\", \"C\", \"Python\"],\n",
        "        \"website\": \"volkerding\",\n",
        "        \"menyerah\" : False,\n",
        "        \"target\": 2020,\n",
        "        \"riwayat_sekolah\": {\n",
        "          \"SD\": \"SDN 3 Hijau Daun\",\n",
        "          \"SMP\": \"SMP 7 Hijau Lumut\",\n",
        "          \"SMA\": \"SMA 8 Hijau Rumput\"}\n",
        "      }\n",
        "       \n",
        "print(volk)"
      ]
    },
    {
      "cell_type": "markdown",
      "metadata": {
        "id": "xDdZD9tpD0nb"
      },
      "source": [
        "Sekarang variabel volk saya isi dengan 6 element dictionary dengan tipe data yang berbeda-beda, mulai dari string, boolean, number, list, hingga dictionary lain."
      ]
    },
    {
      "cell_type": "markdown",
      "metadata": {
        "id": "QatjCgN0D0ne"
      },
      "source": [
        "### Cara Mengakses Element Dictionary Python\n",
        "Untuk menampilkan satu element yang ada di dalam dictionary, tulis key atau index yang ingin diakses dalam kurung siku:"
      ]
    },
    {
      "cell_type": "code",
      "execution_count": null,
      "metadata": {
        "id": "Z-AlXkehD0ni",
        "outputId": "b457b043-39cd-40b0-91f7-3bc0db3f2e38"
      },
      "outputs": [
        {
          "name": "stdout",
          "output_type": "stream",
          "text": [
            "Belajar Python\n"
          ]
        }
      ],
      "source": [
        "volk = { \"kegiatan\": \"Belajar Python\",\n",
        "        \"website\": \"vokerding\",\n",
        "        \"hasil\": \"Yakin bisa!\" }\n",
        " \n",
        "print(volk[\"kegiatan\"])"
      ]
    },
    {
      "cell_type": "markdown",
      "metadata": {
        "id": "_5DpdFCWD0nm"
      },
      "source": [
        "### Cara Mengubah Element Dictionary Python\n",
        "Setelah di deklarasikan, kita bisa mengubah nilai dari sebuah element dictionary. Caranya mirip seperti tipe data list, yakni mengisi nilai ke dalam key atau index dictionary:"
      ]
    },
    {
      "cell_type": "code",
      "execution_count": null,
      "metadata": {
        "id": "1pca1Gb7D0no",
        "outputId": "087563f9-6a09-4daf-8e74-eae315317815"
      },
      "outputs": [
        {
          "name": "stdout",
          "output_type": "stream",
          "text": [
            "{'kegiatan': 'Belajar Bahasa Pemrograman', 'website': 'volkerding', 'hasil': 'Yakin bisa!'}\n"
          ]
        }
      ],
      "source": [
        "volk = { \"kegiatan\": \"Belajar Python\",\n",
        "        \"website\": \"volkerding\",\n",
        "        \"hasil\": \"Yakin bisa!\" }\n",
        " \n",
        "volk[\"kegiatan\"] = \"Belajar Bahasa Pemrograman\"\n",
        "print(volk)"
      ]
    },
    {
      "cell_type": "markdown",
      "metadata": {
        "id": "N7j040v6D0nq"
      },
      "source": [
        "### Cara Menambah Element Dictionary Python\n",
        "Untuk menambah element baru ke dalam dictionary, bisa dilakukan dengan cara mengisi nilai ke sebuah key baru:"
      ]
    },
    {
      "cell_type": "code",
      "execution_count": null,
      "metadata": {
        "id": "c841tijuD0nq",
        "outputId": "a491b4e1-d7f0-45f9-c27a-550c12e9a05c"
      },
      "outputs": [
        {
          "name": "stdout",
          "output_type": "stream",
          "text": [
            "{'kegiatan': 'Belajar Python', 'website': 'volkerding', 'hasil': 'Yakin bisa!', 'target': 2020}\n"
          ]
        }
      ],
      "source": [
        "volk = { \"kegiatan\": \"Belajar Python\",\n",
        "        \"website\": \"volkerding\",\n",
        "        \"hasil\": \"Yakin bisa!\" }\n",
        " \n",
        "volk[\"target\"] = 2020\n",
        "print(volk)"
      ]
    },
    {
      "cell_type": "markdown",
      "metadata": {
        "id": "0HYf4vhND0ns"
      },
      "source": [
        "### Cara Menghapus Element Dictionary Python\n",
        "Untuk menghapus element dari sebuah dictionary, bsia menggunakan perintah del. Berikut contohnya:"
      ]
    },
    {
      "cell_type": "code",
      "execution_count": null,
      "metadata": {
        "id": "cQ0uJE2KD0nv",
        "outputId": "b4e1b9e6-52bd-4759-e97a-eceeed148900"
      },
      "outputs": [
        {
          "name": "stdout",
          "output_type": "stream",
          "text": [
            "{'website': 'volkerding', 'hasil': 'Yakin bisa!'}\n"
          ]
        }
      ],
      "source": [
        "volk = { \"kegiatan\": \"Belajar Python\",\n",
        "        \"website\": \"volkerding\",\n",
        "        \"hasil\": \"Yakin bisa!\" }\n",
        " \n",
        "del volk[\"kegiatan\"]\n",
        "print(volk)"
      ]
    }
  ],
  "metadata": {
    "kernelspec": {
      "display_name": "Python 3 (ipykernel)",
      "language": "python",
      "name": "python3"
    },
    "language_info": {
      "codemirror_mode": {
        "name": "ipython",
        "version": 3
      },
      "file_extension": ".py",
      "mimetype": "text/x-python",
      "name": "python",
      "nbconvert_exporter": "python",
      "pygments_lexer": "ipython3",
      "version": "3.9.7"
    },
    "colab": {
      "name": "8 Type Data.ipynb",
      "provenance": []
    }
  },
  "nbformat": 4,
  "nbformat_minor": 0
}